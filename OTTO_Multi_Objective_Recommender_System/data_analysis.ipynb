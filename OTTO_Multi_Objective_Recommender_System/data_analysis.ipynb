{
 "cells": [
  {
   "cell_type": "code",
   "execution_count": 1,
   "metadata": {
    "collapsed": true
   },
   "outputs": [],
   "source": [
    "import json\n",
    "import os\n",
    "import pandas as pd"
   ]
  },
  {
   "cell_type": "code",
   "execution_count": 2,
   "outputs": [
    {
     "data": {
      "text/plain": "'F:\\\\kaggle\\\\OTTO_Multi_Objective_Recommender_System'"
     },
     "execution_count": 2,
     "metadata": {},
     "output_type": "execute_result"
    }
   ],
   "source": [
    "os.getcwd()"
   ],
   "metadata": {
    "collapsed": false,
    "pycharm": {
     "name": "#%%\n"
    }
   }
  },
  {
   "cell_type": "code",
   "execution_count": 2,
   "outputs": [],
   "source": [],
   "metadata": {
    "collapsed": false,
    "pycharm": {
     "name": "#%%\n"
    }
   }
  },
  {
   "cell_type": "code",
   "execution_count": 3,
   "outputs": [],
   "source": [
    "train_data_path = '../data/train.jsonl'"
   ],
   "metadata": {
    "collapsed": false,
    "pycharm": {
     "name": "#%%\n"
    }
   }
  },
  {
   "cell_type": "code",
   "execution_count": 31,
   "outputs": [],
   "source": [
    "def get_dataset(path, chunk_size, nums_row):\n",
    "    # 定义数据存储列表\n",
    "    data_list = []\n",
    "    chunks_read = 0\n",
    "    num_rows_to_read = nums_row\n",
    "\n",
    "    # 逐块加载JSON数据\n",
    "    chunk_size = chunk_size  # 根据需要调整块大小\n",
    "    with open(path, 'r', encoding='utf-8') as file:\n",
    "        for chunk in pd.read_json(file, lines=True, orient='records', chunksize=chunk_size):\n",
    "            session_id = chunk['session'].iloc[0]\n",
    "            events = chunk['events']\n",
    "            for event in events:\n",
    "                for info in event:\n",
    "                    aid = info['aid']\n",
    "                    ts = info['ts']\n",
    "                    type = info['type']\n",
    "                    data_list.append([session_id, aid, ts, type])\n",
    "            chunks_read += len(chunk)\n",
    "\n",
    "            # 检查是否已经读取足够的行数\n",
    "            if chunks_read >= num_rows_to_read:\n",
    "                break\n",
    "\n",
    "    # 合并所有块成一个DataFrame\n",
    "    columns = ['session_id', 'aid', 'ts', 'event_type']\n",
    "    df = pd.DataFrame(data_list, columns=columns)\n",
    "    return df"
   ],
   "metadata": {
    "collapsed": false,
    "pycharm": {
     "name": "#%%\n"
    }
   }
  },
  {
   "cell_type": "code",
   "execution_count": 34,
   "outputs": [],
   "source": [
    "train_data_path = '../data/train.jsonl'\n",
    "train_df = get_dataset(train_data_path, chunk_size=100, nums_row=100000)"
   ],
   "metadata": {
    "collapsed": false,
    "pycharm": {
     "name": "#%%\n"
    }
   }
  },
  {
   "cell_type": "code",
   "execution_count": 35,
   "outputs": [
    {
     "data": {
      "text/plain": "         session_id      aid             ts event_type\n0                 0  1517085  1659304800025     clicks\n1                 0  1563459  1659304904511     clicks\n2                 0  1309446  1659367439426     clicks\n3                 0    16246  1659367719997     clicks\n4                 0  1781822  1659367871344     clicks\n...             ...      ...            ...        ...\n5227648       99999  1544954  1660373630318     clicks\n5227649       99999  1032408  1660373656430     clicks\n5227650       99999  1544954  1660373678083     clicks\n5227651       99999   554230  1660373715477     clicks\n5227652       99999  1544954  1660373725829     clicks\n\n[5227653 rows x 4 columns]",
      "text/html": "<div>\n<style scoped>\n    .dataframe tbody tr th:only-of-type {\n        vertical-align: middle;\n    }\n\n    .dataframe tbody tr th {\n        vertical-align: top;\n    }\n\n    .dataframe thead th {\n        text-align: right;\n    }\n</style>\n<table border=\"1\" class=\"dataframe\">\n  <thead>\n    <tr style=\"text-align: right;\">\n      <th></th>\n      <th>session_id</th>\n      <th>aid</th>\n      <th>ts</th>\n      <th>event_type</th>\n    </tr>\n  </thead>\n  <tbody>\n    <tr>\n      <th>0</th>\n      <td>0</td>\n      <td>1517085</td>\n      <td>1659304800025</td>\n      <td>clicks</td>\n    </tr>\n    <tr>\n      <th>1</th>\n      <td>0</td>\n      <td>1563459</td>\n      <td>1659304904511</td>\n      <td>clicks</td>\n    </tr>\n    <tr>\n      <th>2</th>\n      <td>0</td>\n      <td>1309446</td>\n      <td>1659367439426</td>\n      <td>clicks</td>\n    </tr>\n    <tr>\n      <th>3</th>\n      <td>0</td>\n      <td>16246</td>\n      <td>1659367719997</td>\n      <td>clicks</td>\n    </tr>\n    <tr>\n      <th>4</th>\n      <td>0</td>\n      <td>1781822</td>\n      <td>1659367871344</td>\n      <td>clicks</td>\n    </tr>\n    <tr>\n      <th>...</th>\n      <td>...</td>\n      <td>...</td>\n      <td>...</td>\n      <td>...</td>\n    </tr>\n    <tr>\n      <th>5227648</th>\n      <td>99999</td>\n      <td>1544954</td>\n      <td>1660373630318</td>\n      <td>clicks</td>\n    </tr>\n    <tr>\n      <th>5227649</th>\n      <td>99999</td>\n      <td>1032408</td>\n      <td>1660373656430</td>\n      <td>clicks</td>\n    </tr>\n    <tr>\n      <th>5227650</th>\n      <td>99999</td>\n      <td>1544954</td>\n      <td>1660373678083</td>\n      <td>clicks</td>\n    </tr>\n    <tr>\n      <th>5227651</th>\n      <td>99999</td>\n      <td>554230</td>\n      <td>1660373715477</td>\n      <td>clicks</td>\n    </tr>\n    <tr>\n      <th>5227652</th>\n      <td>99999</td>\n      <td>1544954</td>\n      <td>1660373725829</td>\n      <td>clicks</td>\n    </tr>\n  </tbody>\n</table>\n<p>5227653 rows × 4 columns</p>\n</div>"
     },
     "execution_count": 35,
     "metadata": {},
     "output_type": "execute_result"
    }
   ],
   "source": [
    "train_df"
   ],
   "metadata": {
    "collapsed": false,
    "pycharm": {
     "name": "#%%\n"
    }
   }
  },
  {
   "cell_type": "code",
   "execution_count": null,
   "outputs": [],
   "source": [],
   "metadata": {
    "collapsed": false,
    "pycharm": {
     "name": "#%%\n"
    }
   }
  }
 ],
 "metadata": {
  "kernelspec": {
   "display_name": "Python 3",
   "language": "python",
   "name": "python3"
  },
  "language_info": {
   "codemirror_mode": {
    "name": "ipython",
    "version": 2
   },
   "file_extension": ".py",
   "mimetype": "text/x-python",
   "name": "python",
   "nbconvert_exporter": "python",
   "pygments_lexer": "ipython2",
   "version": "2.7.6"
  }
 },
 "nbformat": 4,
 "nbformat_minor": 0
}